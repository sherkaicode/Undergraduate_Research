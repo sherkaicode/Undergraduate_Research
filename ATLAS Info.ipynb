{
 "cells": [
  {
   "cell_type": "code",
   "execution_count": null,
   "id": "4fb47399",
   "metadata": {},
   "outputs": [],
   "source": []
  },
  {
   "cell_type": "code",
   "execution_count": 1,
   "id": "ad3ae155-9f34-424f-b9f1-ff38ba9ec08d",
   "metadata": {},
   "outputs": [],
   "source": [
    "import atlasopenmagic as atom"
   ]
  },
  {
   "cell_type": "code",
   "execution_count": 2,
   "id": "f0cd2004-22b5-433d-939f-c0807e1cb592",
   "metadata": {},
   "outputs": [
    {
     "name": "stdout",
     "output_type": "stream",
     "text": [
      "{'2016e-8tev': '2016 Open Data for education release of 8 TeV proton-proton '\n",
      "               'collisions (https://opendata.cern/record/3860).',\n",
      " '2020e-13tev': '2020 Open Data for education release of 13 TeV proton-proton '\n",
      "                'collisions (https://cern.ch/2r7xt).',\n",
      " '2024r-pp': '2024 Open Data for research release for proton-proton collisions '\n",
      "             '(https://opendata.cern/record/80020).',\n",
      " '2025e-13tev-beta': '2025 Open Data for education and outreach beta release '\n",
      "                     'for 13 TeV proton-proton collisions '\n",
      "                     '(https://opendata.cern.ch/record/93910).'}\n"
     ]
    }
   ],
   "source": [
    "atom.available_releases()"
   ]
  },
  {
   "cell_type": "code",
   "execution_count": 18,
   "id": "542e0058-78b4-470e-b047-67985c420f76",
   "metadata": {},
   "outputs": [
    {
     "name": "stdout",
     "output_type": "stream",
     "text": [
      "2024r-pp\n"
     ]
    }
   ],
   "source": [
    "release = atom.get_current_release()\n",
    "print(release)"
   ]
  },
  {
   "cell_type": "code",
   "execution_count": 4,
   "id": "b6fcc85a-15e4-4bd1-b789-38f6268eb71e",
   "metadata": {},
   "outputs": [
    {
     "data": {
      "text/plain": [
       "['2015', '2016']"
      ]
     },
     "execution_count": 4,
     "metadata": {},
     "output_type": "execute_result"
    }
   ],
   "source": [
    "atom.available_data()"
   ]
  },
  {
   "cell_type": "code",
   "execution_count": 10,
   "id": "a04e4273-cd1e-4501-972a-952f2ae436af",
   "metadata": {},
   "outputs": [],
   "source": [
    "data = atom.get_urls_data('2016', protocol='https')"
   ]
  },
  {
   "cell_type": "code",
   "execution_count": 13,
   "id": "39597282-5cd6-4933-afec-4655fadf5d4c",
   "metadata": {},
   "outputs": [],
   "source": [
    "data_samples = atom.build_data_dataset(\"2016\", name=\"Data\", color=\"red\", protocol=\"https\")"
   ]
  }
 ],
 "metadata": {
  "kernelspec": {
   "display_name": "Python (mlenv)",
   "language": "python",
   "name": "mlenv"
  },
  "language_info": {
   "codemirror_mode": {
    "name": "ipython",
    "version": 3
   },
   "file_extension": ".py",
   "mimetype": "text/x-python",
   "name": "python",
   "nbconvert_exporter": "python",
   "pygments_lexer": "ipython3",
   "version": "3.12.3"
  }
 },
 "nbformat": 4,
 "nbformat_minor": 5
}
