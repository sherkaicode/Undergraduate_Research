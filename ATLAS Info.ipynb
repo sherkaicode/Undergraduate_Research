{
 "cells": [
  {
   "cell_type": "code",
   "execution_count": 1,
   "id": "ad3ae155-9f34-424f-b9f1-ff38ba9ec08d",
   "metadata": {},
   "outputs": [],
   "source": [
    "import atlasopenmagic as atom"
   ]
  },
  {
   "cell_type": "code",
   "execution_count": 2,
   "id": "f0cd2004-22b5-433d-939f-c0807e1cb592",
   "metadata": {},
   "outputs": [
    {
     "name": "stdout",
     "output_type": "stream",
     "text": [
      "{'2016e-8tev': '2016 Open Data for education release of 8 TeV proton-proton '\n",
      "               'collisions (https://opendata.cern/record/3860).',\n",
      " '2020e-13tev': '2020 Open Data for education release of 13 TeV proton-proton '\n",
      "                'collisions (https://cern.ch/2r7xt).',\n",
      " '2024r-pp': '2024 Open Data for research release for proton-proton collisions '\n",
      "             '(https://opendata.cern/record/80020).',\n",
      " '2025e-13tev-beta': '2025 Open Data for education and outreach beta release '\n",
      "                     'for 13 TeV proton-proton collisions '\n",
      "                     '(https://opendata.cern.ch/record/93910).'}\n"
     ]
    }
   ],
   "source": [
    "atom.available_releases()"
   ]
  },
  {
   "cell_type": "code",
   "execution_count": 18,
   "id": "542e0058-78b4-470e-b047-67985c420f76",
   "metadata": {},
   "outputs": [
    {
     "name": "stdout",
     "output_type": "stream",
     "text": [
      "2024r-pp\n"
     ]
    }
   ],
   "source": [
    "release = atom.get_current_release()\n",
    "print(release)"
   ]
  },
  {
   "cell_type": "code",
   "execution_count": 4,
   "id": "b6fcc85a-15e4-4bd1-b789-38f6268eb71e",
   "metadata": {},
   "outputs": [
    {
     "data": {
      "text/plain": [
       "['2015', '2016']"
      ]
     },
     "execution_count": 4,
     "metadata": {},
     "output_type": "execute_result"
    }
   ],
   "source": [
    "atom.available_data()"
   ]
  },
  {
   "cell_type": "code",
   "execution_count": 10,
   "id": "a04e4273-cd1e-4501-972a-952f2ae436af",
   "metadata": {},
   "outputs": [],
   "source": [
    "data = atom.get_urls_data('2016', protocol='https')"
   ]
  },
  {
   "cell_type": "code",
   "execution_count": 13,
   "id": "39597282-5cd6-4933-afec-4655fadf5d4c",
   "metadata": {},
   "outputs": [],
   "source": [
    "data_samples = atom.build_data_dataset(\"2016\", name=\"Data\", color=\"red\", protocol=\"https\")"
   ]
  },
  {
   "cell_type": "code",
   "execution_count": 33,
   "id": "4643648b-a085-47f8-ba88-155fa0822beb",
   "metadata": {},
   "outputs": [],
   "source": [
    "# data_samples"
   ]
  },
  {
   "cell_type": "code",
   "execution_count": 31,
   "id": "5683761f-9cb5-4c95-881c-a8b2ff2705cc",
   "metadata": {},
   "outputs": [],
   "source": [
    "runs = []\n",
    "for link in data_samples[\"Data\"][\"list\"]:\n",
    "    run = link.split(\".\")[3]\n",
    "    if run not in runs:\n",
    "        runs.append(run)"
   ]
  },
  {
   "cell_type": "code",
   "execution_count": 2,
   "id": "5b9cffaf-617d-4f86-9440-dd66a4334e23",
   "metadata": {},
   "outputs": [],
   "source": [
    "import json\n",
    "\n",
    "# Load your JSON file\n",
    "with open(\"ATLAS.json\", \"r\") as f:\n",
    "    data = json.load(f)"
   ]
  },
  {
   "cell_type": "code",
   "execution_count": 19,
   "id": "42b79990-15bf-4cdf-bd8e-f0cce8f4d1fd",
   "metadata": {},
   "outputs": [
    {
     "name": "stdout",
     "output_type": "stream",
     "text": [
      "<class 'str'>\n",
      "21\n",
      "root://eospublic.cern.ch//eos/opendata/atlas/rucio/data16_13TeV/DAOD_PHYSLITE.37019878._000001.pool.root.1\n",
      "root://eospublic.cern.ch//eos/opendata/atlas/rucio/data16_13TeV/DAOD_PHYSLITE.37019878._000002.pool.root.1\n",
      "root://eospublic.cern.ch//eos/opendata/atlas/rucio/data16_13TeV/DAOD_PHYSLITE.37019878._000013.pool.root.1\n",
      "root://eospublic.cern.ch//eos/opendata/atlas/rucio/data16_13TeV/DAOD_PHYSLITE.37019878._000014.pool.root.1\n",
      "root://eospublic.cern.ch//eos/opendata/atlas/rucio/data16_13TeV/DAOD_PHYSLITE.37019878._000015.pool.root.1\n",
      "root://eospublic.cern.ch//eos/opendata/atlas/rucio/data16_13TeV/DAOD_PHYSLITE.37019878._000016.pool.root.1\n",
      "root://eospublic.cern.ch//eos/opendata/atlas/rucio/data16_13TeV/DAOD_PHYSLITE.37019878._000017.pool.root.1\n",
      "root://eospublic.cern.ch//eos/opendata/atlas/rucio/data16_13TeV/DAOD_PHYSLITE.37019878._000018.pool.root.1\n",
      "root://eospublic.cern.ch//eos/opendata/atlas/rucio/data16_13TeV/DAOD_PHYSLITE.37019878._000019.pool.root.1\n",
      "root://eospublic.cern.ch//eos/opendata/atlas/rucio/data16_13TeV/DAOD_PHYSLITE.37019878._000020.pool.root.1\n",
      "<class 'str'>\n",
      "45\n",
      "root://eospublic.cern.ch//eos/opendata/atlas/rucio/data16_13TeV/DAOD_PHYSLITE.37019880._000001.pool.root.1\n",
      "root://eospublic.cern.ch//eos/opendata/atlas/rucio/data16_13TeV/DAOD_PHYSLITE.37019880._000002.pool.root.1\n",
      "root://eospublic.cern.ch//eos/opendata/atlas/rucio/data16_13TeV/DAOD_PHYSLITE.37019880._000011.pool.root.1\n",
      "root://eospublic.cern.ch//eos/opendata/atlas/rucio/data16_13TeV/DAOD_PHYSLITE.37019880._000012.pool.root.1\n",
      "root://eospublic.cern.ch//eos/opendata/atlas/rucio/data16_13TeV/DAOD_PHYSLITE.37019880._000013.pool.root.1\n",
      "root://eospublic.cern.ch//eos/opendata/atlas/rucio/data16_13TeV/DAOD_PHYSLITE.37019880._000014.pool.root.1\n",
      "root://eospublic.cern.ch//eos/opendata/atlas/rucio/data16_13TeV/DAOD_PHYSLITE.37019880._000015.pool.root.1\n",
      "root://eospublic.cern.ch//eos/opendata/atlas/rucio/data16_13TeV/DAOD_PHYSLITE.37019880._000016.pool.root.1\n",
      "root://eospublic.cern.ch//eos/opendata/atlas/rucio/data16_13TeV/DAOD_PHYSLITE.37019880._000017.pool.root.1\n",
      "root://eospublic.cern.ch//eos/opendata/atlas/rucio/data16_13TeV/DAOD_PHYSLITE.37019880._000018.pool.root.1\n",
      "<class 'str'>\n",
      "39\n",
      "root://eospublic.cern.ch//eos/opendata/atlas/rucio/data16_13TeV/DAOD_PHYSLITE.37019882._000001.pool.root.1\n",
      "root://eospublic.cern.ch//eos/opendata/atlas/rucio/data16_13TeV/DAOD_PHYSLITE.37019882._000002.pool.root.1\n",
      "root://eospublic.cern.ch//eos/opendata/atlas/rucio/data16_13TeV/DAOD_PHYSLITE.37019882._000013.pool.root.1\n",
      "root://eospublic.cern.ch//eos/opendata/atlas/rucio/data16_13TeV/DAOD_PHYSLITE.37019882._000014.pool.root.1\n",
      "root://eospublic.cern.ch//eos/opendata/atlas/rucio/data16_13TeV/DAOD_PHYSLITE.37019882._000015.pool.root.1\n",
      "root://eospublic.cern.ch//eos/opendata/atlas/rucio/data16_13TeV/DAOD_PHYSLITE.37019882._000016.pool.root.1\n",
      "root://eospublic.cern.ch//eos/opendata/atlas/rucio/data16_13TeV/DAOD_PHYSLITE.37019882._000017.pool.root.1\n",
      "root://eospublic.cern.ch//eos/opendata/atlas/rucio/data16_13TeV/DAOD_PHYSLITE.37019882._000018.pool.root.1\n",
      "root://eospublic.cern.ch//eos/opendata/atlas/rucio/data16_13TeV/DAOD_PHYSLITE.37019882._000019.pool.root.1\n",
      "root://eospublic.cern.ch//eos/opendata/atlas/rucio/data16_13TeV/DAOD_PHYSLITE.37019882._000020.pool.root.1\n",
      "<class 'str'>\n",
      "90\n",
      "root://eospublic.cern.ch//eos/opendata/atlas/rucio/data16_13TeV/DAOD_PHYSLITE.37019884._000001.pool.root.1\n",
      "root://eospublic.cern.ch//eos/opendata/atlas/rucio/data16_13TeV/DAOD_PHYSLITE.37019884._000002.pool.root.1\n",
      "root://eospublic.cern.ch//eos/opendata/atlas/rucio/data16_13TeV/DAOD_PHYSLITE.37019884._000087.pool.root.1\n",
      "root://eospublic.cern.ch//eos/opendata/atlas/rucio/data16_13TeV/DAOD_PHYSLITE.37019884._000088.pool.root.1\n",
      "root://eospublic.cern.ch//eos/opendata/atlas/rucio/data16_13TeV/DAOD_PHYSLITE.37019884._000089.pool.root.1\n",
      "root://eospublic.cern.ch//eos/opendata/atlas/rucio/data16_13TeV/DAOD_PHYSLITE.37019884._000090.pool.root.1\n",
      "root://eospublic.cern.ch//eos/opendata/atlas/rucio/data16_13TeV/DAOD_PHYSLITE.37019884._000091.pool.root.1\n",
      "root://eospublic.cern.ch//eos/opendata/atlas/rucio/data16_13TeV/DAOD_PHYSLITE.37019884._000092.pool.root.1\n",
      "root://eospublic.cern.ch//eos/opendata/atlas/rucio/data16_13TeV/DAOD_PHYSLITE.37019884._000093.pool.root.1\n",
      "root://eospublic.cern.ch//eos/opendata/atlas/rucio/data16_13TeV/DAOD_PHYSLITE.37019884._000094.pool.root.1\n",
      "<class 'str'>\n",
      "52\n",
      "root://eospublic.cern.ch//eos/opendata/atlas/rucio/data16_13TeV/DAOD_PHYSLITE.37019886._000001.pool.root.1\n",
      "root://eospublic.cern.ch//eos/opendata/atlas/rucio/data16_13TeV/DAOD_PHYSLITE.37019886._000002.pool.root.1\n",
      "root://eospublic.cern.ch//eos/opendata/atlas/rucio/data16_13TeV/DAOD_PHYSLITE.37019886._000012.pool.root.1\n",
      "root://eospublic.cern.ch//eos/opendata/atlas/rucio/data16_13TeV/DAOD_PHYSLITE.37019886._000013.pool.root.1\n",
      "root://eospublic.cern.ch//eos/opendata/atlas/rucio/data16_13TeV/DAOD_PHYSLITE.37019886._000014.pool.root.1\n",
      "root://eospublic.cern.ch//eos/opendata/atlas/rucio/data16_13TeV/DAOD_PHYSLITE.37019886._000015.pool.root.1\n",
      "root://eospublic.cern.ch//eos/opendata/atlas/rucio/data16_13TeV/DAOD_PHYSLITE.37019886._000016.pool.root.1\n",
      "root://eospublic.cern.ch//eos/opendata/atlas/rucio/data16_13TeV/DAOD_PHYSLITE.37019886._000017.pool.root.1\n",
      "root://eospublic.cern.ch//eos/opendata/atlas/rucio/data16_13TeV/DAOD_PHYSLITE.37019886._000018.pool.root.1\n",
      "root://eospublic.cern.ch//eos/opendata/atlas/rucio/data16_13TeV/DAOD_PHYSLITE.37019886._000019.pool.root.1\n",
      "<class 'str'>\n",
      "109\n",
      "root://eospublic.cern.ch//eos/opendata/atlas/rucio/data16_13TeV/DAOD_PHYSLITE.37019888._000001.pool.root.1\n",
      "root://eospublic.cern.ch//eos/opendata/atlas/rucio/data16_13TeV/DAOD_PHYSLITE.37019888._000002.pool.root.1\n",
      "root://eospublic.cern.ch//eos/opendata/atlas/rucio/data16_13TeV/DAOD_PHYSLITE.37019888._000012.pool.root.1\n",
      "root://eospublic.cern.ch//eos/opendata/atlas/rucio/data16_13TeV/DAOD_PHYSLITE.37019888._000103.pool.root.1\n",
      "root://eospublic.cern.ch//eos/opendata/atlas/rucio/data16_13TeV/DAOD_PHYSLITE.37019888._000104.pool.root.1\n",
      "root://eospublic.cern.ch//eos/opendata/atlas/rucio/data16_13TeV/DAOD_PHYSLITE.37019888._000105.pool.root.1\n",
      "root://eospublic.cern.ch//eos/opendata/atlas/rucio/data16_13TeV/DAOD_PHYSLITE.37019888._000107.pool.root.1\n",
      "root://eospublic.cern.ch//eos/opendata/atlas/rucio/data16_13TeV/DAOD_PHYSLITE.37019888._000108.pool.root.1\n",
      "root://eospublic.cern.ch//eos/opendata/atlas/rucio/data16_13TeV/DAOD_PHYSLITE.37019888._000110.pool.root.1\n",
      "root://eospublic.cern.ch//eos/opendata/atlas/rucio/data16_13TeV/DAOD_PHYSLITE.37019888._000111.pool.root.1\n",
      "<class 'str'>\n",
      "21\n",
      "root://eospublic.cern.ch//eos/opendata/atlas/rucio/data16_13TeV/DAOD_PHYSLITE.37019890._000001.pool.root.1\n",
      "root://eospublic.cern.ch//eos/opendata/atlas/rucio/data16_13TeV/DAOD_PHYSLITE.37019890._000002.pool.root.1\n",
      "root://eospublic.cern.ch//eos/opendata/atlas/rucio/data16_13TeV/DAOD_PHYSLITE.37019890._000011.pool.root.1\n",
      "root://eospublic.cern.ch//eos/opendata/atlas/rucio/data16_13TeV/DAOD_PHYSLITE.37019890._000012.pool.root.1\n",
      "root://eospublic.cern.ch//eos/opendata/atlas/rucio/data16_13TeV/DAOD_PHYSLITE.37019890._000013.pool.root.1\n",
      "root://eospublic.cern.ch//eos/opendata/atlas/rucio/data16_13TeV/DAOD_PHYSLITE.37019890._000014.pool.root.1\n",
      "root://eospublic.cern.ch//eos/opendata/atlas/rucio/data16_13TeV/DAOD_PHYSLITE.37019890._000015.pool.root.1\n",
      "root://eospublic.cern.ch//eos/opendata/atlas/rucio/data16_13TeV/DAOD_PHYSLITE.37019890._000016.pool.root.1\n",
      "root://eospublic.cern.ch//eos/opendata/atlas/rucio/data16_13TeV/DAOD_PHYSLITE.37019890._000017.pool.root.1\n",
      "root://eospublic.cern.ch//eos/opendata/atlas/rucio/data16_13TeV/DAOD_PHYSLITE.37019890._000018.pool.root.1\n",
      "<class 'str'>\n",
      "105\n",
      "root://eospublic.cern.ch//eos/opendata/atlas/rucio/data16_13TeV/DAOD_PHYSLITE.37019892._000001.pool.root.1\n",
      "root://eospublic.cern.ch//eos/opendata/atlas/rucio/data16_13TeV/DAOD_PHYSLITE.37019892._000002.pool.root.1\n",
      "root://eospublic.cern.ch//eos/opendata/atlas/rucio/data16_13TeV/DAOD_PHYSLITE.37019892._000011.pool.root.1\n",
      "root://eospublic.cern.ch//eos/opendata/atlas/rucio/data16_13TeV/DAOD_PHYSLITE.37019892._000104.pool.root.1\n",
      "root://eospublic.cern.ch//eos/opendata/atlas/rucio/data16_13TeV/DAOD_PHYSLITE.37019892._000105.pool.root.1\n",
      "root://eospublic.cern.ch//eos/opendata/atlas/rucio/data16_13TeV/DAOD_PHYSLITE.37019892._000106.pool.root.1\n",
      "root://eospublic.cern.ch//eos/opendata/atlas/rucio/data16_13TeV/DAOD_PHYSLITE.37019892._000107.pool.root.1\n",
      "root://eospublic.cern.ch//eos/opendata/atlas/rucio/data16_13TeV/DAOD_PHYSLITE.37019892._000108.pool.root.1\n",
      "root://eospublic.cern.ch//eos/opendata/atlas/rucio/data16_13TeV/DAOD_PHYSLITE.37019892._000012.pool.root.1\n",
      "root://eospublic.cern.ch//eos/opendata/atlas/rucio/data16_13TeV/DAOD_PHYSLITE.37019892._000013.pool.root.1\n",
      "<class 'str'>\n",
      "38\n",
      "root://eospublic.cern.ch//eos/opendata/atlas/rucio/data16_13TeV/DAOD_PHYSLITE.37019894._000001.pool.root.1\n",
      "root://eospublic.cern.ch//eos/opendata/atlas/rucio/data16_13TeV/DAOD_PHYSLITE.37019894._000002.pool.root.1\n",
      "root://eospublic.cern.ch//eos/opendata/atlas/rucio/data16_13TeV/DAOD_PHYSLITE.37019894._000011.pool.root.1\n",
      "root://eospublic.cern.ch//eos/opendata/atlas/rucio/data16_13TeV/DAOD_PHYSLITE.37019894._000013.pool.root.1\n",
      "root://eospublic.cern.ch//eos/opendata/atlas/rucio/data16_13TeV/DAOD_PHYSLITE.37019894._000014.pool.root.1\n",
      "root://eospublic.cern.ch//eos/opendata/atlas/rucio/data16_13TeV/DAOD_PHYSLITE.37019894._000015.pool.root.1\n",
      "root://eospublic.cern.ch//eos/opendata/atlas/rucio/data16_13TeV/DAOD_PHYSLITE.37019894._000016.pool.root.1\n",
      "root://eospublic.cern.ch//eos/opendata/atlas/rucio/data16_13TeV/DAOD_PHYSLITE.37019894._000017.pool.root.1\n",
      "root://eospublic.cern.ch//eos/opendata/atlas/rucio/data16_13TeV/DAOD_PHYSLITE.37019894._000018.pool.root.1\n",
      "root://eospublic.cern.ch//eos/opendata/atlas/rucio/data16_13TeV/DAOD_PHYSLITE.37019894._000019.pool.root.1\n",
      "<class 'str'>\n",
      "69\n",
      "root://eospublic.cern.ch//eos/opendata/atlas/rucio/data16_13TeV/DAOD_PHYSLITE.37019896._000001.pool.root.1\n",
      "root://eospublic.cern.ch//eos/opendata/atlas/rucio/data16_13TeV/DAOD_PHYSLITE.37019896._000002.pool.root.1\n",
      "root://eospublic.cern.ch//eos/opendata/atlas/rucio/data16_13TeV/DAOD_PHYSLITE.37019896._000011.pool.root.1\n",
      "root://eospublic.cern.ch//eos/opendata/atlas/rucio/data16_13TeV/DAOD_PHYSLITE.37019896._000012.pool.root.1\n",
      "root://eospublic.cern.ch//eos/opendata/atlas/rucio/data16_13TeV/DAOD_PHYSLITE.37019896._000013.pool.root.1\n",
      "root://eospublic.cern.ch//eos/opendata/atlas/rucio/data16_13TeV/DAOD_PHYSLITE.37019896._000014.pool.root.1\n",
      "root://eospublic.cern.ch//eos/opendata/atlas/rucio/data16_13TeV/DAOD_PHYSLITE.37019896._000015.pool.root.1\n",
      "root://eospublic.cern.ch//eos/opendata/atlas/rucio/data16_13TeV/DAOD_PHYSLITE.37019896._000016.pool.root.1\n",
      "root://eospublic.cern.ch//eos/opendata/atlas/rucio/data16_13TeV/DAOD_PHYSLITE.37019896._000017.pool.root.1\n",
      "root://eospublic.cern.ch//eos/opendata/atlas/rucio/data16_13TeV/DAOD_PHYSLITE.37019896._000018.pool.root.1\n",
      "<class 'str'>\n",
      "100\n"
     ]
    }
   ],
   "source": [
    "run_list = []\n",
    "cut = 10\n",
    "counter = 0\n",
    "for file in data[\"metadata\"][\"_file_indices\"]:\n",
    "    print(type(file[\"key\"].split(\"_\")[3][2:]))\n",
    "    print(file[\"number_files\"])\n",
    "    counter += 1\n",
    "    if counter > cut:\n",
    "        break\n",
    "    # print(file[\"files\"][\"\"]\n",
    "    counter_2 = 0\n",
    "    for root_file in file[\"files\"]:\n",
    "        # print(root_file[\"uri\"])\n",
    "        counter_2 += 1\n",
    "        if counter_2 > cut:\n",
    "            break\n",
    "        print(root_file[\"uri\"])"
   ]
  }
 ],
 "metadata": {
  "kernelspec": {
   "display_name": "Python (mlenv)",
   "language": "python",
   "name": "mlenv"
  },
  "language_info": {
   "codemirror_mode": {
    "name": "ipython",
    "version": 3
   },
   "file_extension": ".py",
   "mimetype": "text/x-python",
   "name": "python",
   "nbconvert_exporter": "python",
   "pygments_lexer": "ipython3",
   "version": "3.12.3"
  }
 },
 "nbformat": 4,
 "nbformat_minor": 5
}
